{
 "cells": [
  {
   "cell_type": "code",
   "execution_count": 1,
   "metadata": {},
   "outputs": [],
   "source": [
    "import re, requests, json, os, datetime"
   ]
  },
  {
   "cell_type": "code",
   "execution_count": 2,
   "metadata": {},
   "outputs": [],
   "source": [
    "def exec_ipynb(filename_or_url):\n",
    "    nb = (requests.get(filename_or_url).json() if re.match(r'https?:', filename_or_url) else json.load(open(filename_or_url)))\n",
    "    if(nb['nbformat'] >= 4):\n",
    "        src = [''.join(cell['source']) for cell in nb['cells'] if cell['cell_type'] == 'code']\n",
    "    else:\n",
    "        src = [''.join(cell['input']) for cell in nb['worksheets'][0]['cells'] if cell['cell_type'] == 'code']\n",
    "\n",
    "    tmpname = '/tmp/%s-%s-%d.py' % (os.path.basename(filename_or_url),\n",
    "                                    datetime.datetime.now().strftime('%Y%m%d%H%M%S%f'),\n",
    "                                    os.getpid())\n",
    "    src = '\\n\\n\\n'.join(src)\n",
    "    open(tmpname, 'w').write(src)\n",
    "    code = compile(src, tmpname, 'exec')\n",
    "    exec(code, globals())\n",
    "\n",
    "exec_ipynb('./python-utils/esdr-library.ipynb')\n",
    "exec_ipynb('./python-utils/utils.ipynb')\n",
    "esdr = Esdr('esdr-auth-2btech-uploader.json')"
   ]
  },
  {
   "cell_type": "code",
   "execution_count": 3,
   "metadata": {},
   "outputs": [],
   "source": [
    "STAT_SERVICE_NAME = '2BTech Monitoring Data Mirror'\n",
    "STAT_HOSTNAME = 'hal21'\n",
    "STAT_SHORTNAME = '2btech-data-mirror'\n",
    "\n",
    "Stat.set_service(STAT_SERVICE_NAME)"
   ]
  },
  {
   "cell_type": "code",
   "execution_count": 4,
   "metadata": {},
   "outputs": [],
   "source": [
    "def get_new_token():\n",
    "    #read client_id from auth.json\n",
    "    with open('2btech_auth.json') as f:\n",
    "        data = json.load(f)\n",
    "        client_id = data['client_id']\n",
    "        client_secret = data['client_secret']\n",
    "\n",
    "    audience = \"https://sharpapi.airqdb.com\"\n",
    "    grant_type = \"client_credentials\"\n",
    "\n",
    "\n",
    "    response = requests.post(\n",
    "        \"https://airdb.auth0.com/oauth/token\",\n",
    "        data={\n",
    "            \"client_id\": client_id,\n",
    "            \"client_secret\": client_secret,\n",
    "            \"audience\": audience,\n",
    "            \"grant_type\": grant_type\n",
    "        }\n",
    "    )\n",
    "\n",
    "    token_info = response.json()\n",
    "    token_info['expiration_epoch'] = (datetime.datetime.now() + datetime.timedelta(seconds=data['expires_in'])).timestamp()\n",
    "\n",
    "    with open('token.json', 'w') as f:\n",
    "        json.dump(token_info, f)\n",
    "    \n",
    "    return token_info['access_token']"
   ]
  },
  {
   "cell_type": "code",
   "execution_count": 5,
   "metadata": {},
   "outputs": [],
   "source": [
    "def read_or_get_token():\n",
    "    with open('token.json') as f:\n",
    "        data = json.load(f)\n",
    "    if(data['expiration_epoch'] < datetime.datetime.now().timestamp()):\n",
    "        print(\"Getting new access token...\")\n",
    "        token = get_new_token()\n",
    "    else:\n",
    "        print(\"Using current access token...\")\n",
    "        token = data['access_token']\n",
    "    return token"
   ]
  },
  {
   "cell_type": "code",
   "execution_count": 6,
   "metadata": {},
   "outputs": [],
   "source": [
    "def get_2btech_data(access_token, start_iso, end_iso):\n",
    "    # Make a request to get time series data (no averaging applied)\n",
    "    print(f\"Getting data from {start_iso} to {end_iso}...\")\n",
    "    response = requests.get(\n",
    "        \"https://air.api.airqdb.com/v2/uploads/primary/time-series/AQSync-1034\",\n",
    "        headers={\n",
    "            \"Authorization\": f\"Bearer {access_token}\"\n",
    "        },\n",
    "        params={\n",
    "            \"start\": start_iso,\n",
    "            \"end\": end_iso,\n",
    "            \"average\": \"0\"\n",
    "        }\n",
    "    )\n",
    "    if response.status_code != 200:\n",
    "        print(\"Request to air.api.airqdb.com failed with code %s and message: %s\" % (response.code, response.text))\n",
    "        return None\n",
    "    else:\n",
    "        print(\"Request to air.api.airqdb.com succeeded\")\n",
    "        rsp = response.json()\n",
    "        if 'GPS:LAT' in rsp:\n",
    "            print(\"Parsing %s data points...\" % len(rsp['GPS:LAT']))\n",
    "        else:\n",
    "            print(\"No data retrieved\")\n",
    "        return response.json()"
   ]
  },
  {
   "cell_type": "code",
   "execution_count": 7,
   "metadata": {},
   "outputs": [],
   "source": [
    "def get_aqsync_esdr_feed(data):\n",
    "    product = esdr.get_or_create_product('AQSync', '2BTech', 'Air quality monitoring station by 2BTech')\n",
    "\n",
    "    sample = data['GPS:LAT'][0]\n",
    "    dv = {\n",
    "        \"name\": sample['dataPoint']['sid'],\n",
    "        \"code\": sample['dataPoint']['sid'].split('-')[1],\n",
    "        # \"latitude\": sample['dataPoint']['value'],\n",
    "        # \"longitude\": sample['dataPoint']['value']\n",
    "    }\n",
    "\n",
    "    esdrDevice = esdr.get_or_create_device(product, dv[\"code\"], dv[\"name\"])\n",
    "    feed = esdr.get_or_create_feed(esdrDevice)\n",
    "    return feed"
   ]
  },
  {
   "cell_type": "code",
   "execution_count": 8,
   "metadata": {},
   "outputs": [],
   "source": [
    "def format_2btech_data(data):\n",
    "    new_keyed_data = {x.split(':')[1] : y for x,y in data.items()}\n",
    "    time_dict = {}\n",
    "\n",
    "    for channel_name in new_keyed_data:\n",
    "        if channel_name in ['Cell Strength', 'isBackfill', 'UploadType']:\n",
    "                continue\n",
    "        for data_point in new_keyed_data[channel_name]:\n",
    "            tstamp = datetime.datetime.fromisoformat(data_point['averagedStartDate']).timestamp()\n",
    "            try:\n",
    "                val = float(data_point['dataPoint']['value'])\n",
    "            except ValueError:\n",
    "                val = None\n",
    "            if not tstamp in time_dict:\n",
    "                time_dict[tstamp] = {channel_name: val}\n",
    "            else:\n",
    "                time_dict[tstamp][channel_name] = val\n",
    "                \n",
    "    esdr_data = [{'time':t, **v} for t,v in time_dict.items()]\n",
    "    return esdr_data\n"
   ]
  },
  {
   "cell_type": "code",
   "execution_count": 9,
   "metadata": {},
   "outputs": [
    {
     "name": "stdout",
     "output_type": "stream",
     "text": [
      "Using current access token...\n",
      "Getting data from 2024-05-17T13:57:25 to 2024-05-17T17:57:25...\n",
      "Request to air.api.airqdb.com succeeded\n",
      "Parsing 47 data points...\n",
      "uploaded 47 records of 19 values to AQSync-1034 AQSync/153223/174124\n",
      "Stat.log up 2BTech Monitoring Data Mirror hal21 Mirror completed successfully None\n"
     ]
    }
   ],
   "source": [
    "end = datetime.datetime.now(datetime.UTC).isoformat().split('.')[0].replace('+00:00', 'Z')\n",
    "start = (datetime.datetime.now(datetime.UTC) - datetime.timedelta(hours=1)).isoformat().split('.')[0].replace('+00:00', 'Z')\n",
    "\n",
    "data = get_2btech_data(read_or_get_token(), start, end)\n",
    "feed = get_aqsync_esdr_feed(data)\n",
    "esdr_data = format_2btech_data(data)\n",
    "\n",
    "try:\n",
    "    esdr.upload_dicts(feed, esdr_data)\n",
    "    Stat.up('Mirror completed successfully', host=STAT_HOSTNAME, shortname=STAT_SHORTNAME)\n",
    "except Exception as e:\n",
    "    Stat.down('Exception recorded %s' % e, host=STAT_HOSTNAME, shortname=STAT_SHORTNAME)"
   ]
  },
  {
   "cell_type": "code",
   "execution_count": null,
   "metadata": {},
   "outputs": [],
   "source": []
  }
 ],
 "metadata": {
  "kernelspec": {
   "display_name": ".venv",
   "language": "python",
   "name": "python3"
  },
  "language_info": {
   "codemirror_mode": {
    "name": "ipython",
    "version": 3
   },
   "file_extension": ".py",
   "mimetype": "text/x-python",
   "name": "python",
   "nbconvert_exporter": "python",
   "pygments_lexer": "ipython3",
   "version": "3.11.3"
  }
 },
 "nbformat": 4,
 "nbformat_minor": 2
}
